{
 "cells": [
  {
   "cell_type": "code",
   "execution_count": 1,
   "id": "0a8f9fb9-0b57-4f23-8edb-656352d7f4d4",
   "metadata": {},
   "outputs": [],
   "source": [
    "import pandas as pd\n",
    "import numpy as np\n",
    "import torch\n",
    "from torch_geometric.data import Data\n",
    "from torch_geometric.nn import Node2Vec, GCNConv\n",
    "import torch.nn.functional as F\n",
    "from tqdm import tqdm\n",
    "import matplotlib.pyplot as plt\n",
    "from sklearn.manifold import TSNE\n",
    "\n"
   ]
  },
  {
   "cell_type": "code",
   "execution_count": 7,
   "id": "2cad995f-b609-48c0-9e20-37aa939e8bd5",
   "metadata": {},
   "outputs": [],
   "source": [
    "# Generate 200 nodes (100 lncRNA + 100 gene), 1000 edges, and random labels\n",
    "num_lnc = 100\n",
    "num_gene = 100\n",
    "lnc_nodes = [f'lncRNA{i}' for i in range(num_lnc)]\n",
    "gene_nodes = [f'gene{i}' for i in range(num_gene)]\n",
    "all_nodes = lnc_nodes + gene_nodes\n",
    "\n",
    "num_edges = 1000\n",
    "np.random.seed(42)\n",
    "edge_sources = np.random.choice(all_nodes, num_edges)\n",
    "edge_targets = np.random.choice(all_nodes, num_edges)\n",
    "edge_df = pd.DataFrame({'source': edge_sources, 'target': edge_targets})\n",
    "\n",
    "labels = np.random.choice([0, 1], size=len(all_nodes))\n",
    "label_df = pd.DataFrame({'node': all_nodes, 'label': labels})\n",
    "\n",
    "# Node index mapping\n",
    "node2idx = {name: i for i, name in enumerate(all_nodes)}\n",
    "num_nodes = len(all_nodes)\n",
    "edge_index = torch.tensor([\n",
    "    edge_df['source'].map(node2idx).values,\n",
    "    edge_df['target'].map(node2idx).values\n",
    "], dtype=torch.long)\n",
    "\n",
    "# Labels and train/test mask\n",
    "y_map = dict(zip(label_df['node'], label_df['label']))\n",
    "y = torch.tensor([y_map[node] for node in all_nodes], dtype=torch.long)\n",
    "idx = np.arange(num_nodes)\n",
    "np.random.shuffle(idx)\n",
    "train_size = int(0.8 * num_nodes)\n",
    "train_idx = idx[:train_size]\n",
    "test_idx = idx[train_size:]\n",
    "train_mask = torch.zeros(num_nodes, dtype=torch.bool)\n",
    "test_mask = torch.zeros(num_nodes, dtype=torch.bool)\n",
    "train_mask[train_idx] = True\n",
    "test_mask[test_idx] = True\n",
    "\n",
    "# Build PyG Data object\n",
    "data = Data(\n",
    "    edge_index=edge_index,\n",
    "    y=y,\n",
    "    train_mask=train_mask,\n",
    "    test_mask=test_mask\n",
    ")\n"
   ]
  },
  {
   "cell_type": "code",
   "execution_count": 8,
   "id": "d4b7f29a-bac9-4925-9642-bd2081424200",
   "metadata": {},
   "outputs": [
    {
     "name": "stdout",
     "output_type": "stream",
     "text": [
      "Training Node2Vec...\n"
     ]
    },
    {
     "name": "stderr",
     "output_type": "stream",
     "text": [
      "100%|████████████████████████████████████████████████████████████████████████████████████| 2/2 [00:00<00:00, 71.91it/s]\n"
     ]
    },
    {
     "name": "stdout",
     "output_type": "stream",
     "text": [
      "Node2Vec Epoch: 01, Loss: 6.8641\n"
     ]
    },
    {
     "name": "stderr",
     "output_type": "stream",
     "text": [
      "100%|████████████████████████████████████████████████████████████████████████████████████| 2/2 [00:00<00:00, 70.19it/s]\n"
     ]
    },
    {
     "name": "stdout",
     "output_type": "stream",
     "text": [
      "Node2Vec Epoch: 02, Loss: 6.4812\n"
     ]
    },
    {
     "name": "stderr",
     "output_type": "stream",
     "text": [
      "100%|████████████████████████████████████████████████████████████████████████████████████| 2/2 [00:00<00:00, 68.28it/s]\n"
     ]
    },
    {
     "name": "stdout",
     "output_type": "stream",
     "text": [
      "Node2Vec Epoch: 03, Loss: 6.2985\n"
     ]
    },
    {
     "name": "stderr",
     "output_type": "stream",
     "text": [
      "100%|████████████████████████████████████████████████████████████████████████████████████| 2/2 [00:00<00:00, 69.32it/s]\n"
     ]
    },
    {
     "name": "stdout",
     "output_type": "stream",
     "text": [
      "Node2Vec Epoch: 04, Loss: 5.9819\n"
     ]
    },
    {
     "name": "stderr",
     "output_type": "stream",
     "text": [
      "100%|████████████████████████████████████████████████████████████████████████████████████| 2/2 [00:00<00:00, 69.01it/s]\n"
     ]
    },
    {
     "name": "stdout",
     "output_type": "stream",
     "text": [
      "Node2Vec Epoch: 05, Loss: 5.8813\n"
     ]
    },
    {
     "name": "stderr",
     "output_type": "stream",
     "text": [
      "100%|████████████████████████████████████████████████████████████████████████████████████| 2/2 [00:00<00:00, 63.21it/s]\n"
     ]
    },
    {
     "name": "stdout",
     "output_type": "stream",
     "text": [
      "Node2Vec Epoch: 06, Loss: 5.6732\n"
     ]
    },
    {
     "name": "stderr",
     "output_type": "stream",
     "text": [
      "100%|████████████████████████████████████████████████████████████████████████████████████| 2/2 [00:00<00:00, 66.30it/s]\n"
     ]
    },
    {
     "name": "stdout",
     "output_type": "stream",
     "text": [
      "Node2Vec Epoch: 07, Loss: 5.4141\n"
     ]
    },
    {
     "name": "stderr",
     "output_type": "stream",
     "text": [
      "100%|████████████████████████████████████████████████████████████████████████████████████| 2/2 [00:00<00:00, 68.81it/s]\n"
     ]
    },
    {
     "name": "stdout",
     "output_type": "stream",
     "text": [
      "Node2Vec Epoch: 08, Loss: 5.2935\n"
     ]
    },
    {
     "name": "stderr",
     "output_type": "stream",
     "text": [
      "100%|████████████████████████████████████████████████████████████████████████████████████| 2/2 [00:00<00:00, 74.05it/s]\n"
     ]
    },
    {
     "name": "stdout",
     "output_type": "stream",
     "text": [
      "Node2Vec Epoch: 09, Loss: 5.1119\n"
     ]
    },
    {
     "name": "stderr",
     "output_type": "stream",
     "text": [
      "100%|████████████████████████████████████████████████████████████████████████████████████| 2/2 [00:00<00:00, 68.81it/s]\n"
     ]
    },
    {
     "name": "stdout",
     "output_type": "stream",
     "text": [
      "Node2Vec Epoch: 10, Loss: 4.9524\n"
     ]
    },
    {
     "name": "stderr",
     "output_type": "stream",
     "text": [
      "100%|████████████████████████████████████████████████████████████████████████████████████| 2/2 [00:00<00:00, 54.41it/s]\n"
     ]
    },
    {
     "name": "stdout",
     "output_type": "stream",
     "text": [
      "Node2Vec Epoch: 11, Loss: 4.7886\n"
     ]
    },
    {
     "name": "stderr",
     "output_type": "stream",
     "text": [
      "100%|████████████████████████████████████████████████████████████████████████████████████| 2/2 [00:00<00:00, 68.40it/s]\n"
     ]
    },
    {
     "name": "stdout",
     "output_type": "stream",
     "text": [
      "Node2Vec Epoch: 12, Loss: 4.6489\n"
     ]
    },
    {
     "name": "stderr",
     "output_type": "stream",
     "text": [
      "100%|████████████████████████████████████████████████████████████████████████████████████| 2/2 [00:00<00:00, 61.95it/s]\n"
     ]
    },
    {
     "name": "stdout",
     "output_type": "stream",
     "text": [
      "Node2Vec Epoch: 13, Loss: 4.4421\n"
     ]
    },
    {
     "name": "stderr",
     "output_type": "stream",
     "text": [
      "100%|████████████████████████████████████████████████████████████████████████████████████| 2/2 [00:00<00:00, 69.05it/s]\n"
     ]
    },
    {
     "name": "stdout",
     "output_type": "stream",
     "text": [
      "Node2Vec Epoch: 14, Loss: 4.3889\n"
     ]
    },
    {
     "name": "stderr",
     "output_type": "stream",
     "text": [
      "100%|████████████████████████████████████████████████████████████████████████████████████| 2/2 [00:00<00:00, 76.78it/s]\n"
     ]
    },
    {
     "name": "stdout",
     "output_type": "stream",
     "text": [
      "Node2Vec Epoch: 15, Loss: 4.2375\n"
     ]
    },
    {
     "name": "stderr",
     "output_type": "stream",
     "text": [
      "100%|████████████████████████████████████████████████████████████████████████████████████| 2/2 [00:00<00:00, 72.52it/s]\n"
     ]
    },
    {
     "name": "stdout",
     "output_type": "stream",
     "text": [
      "Node2Vec Epoch: 16, Loss: 4.1236\n"
     ]
    },
    {
     "name": "stderr",
     "output_type": "stream",
     "text": [
      "100%|████████████████████████████████████████████████████████████████████████████████████| 2/2 [00:00<00:00, 72.58it/s]\n"
     ]
    },
    {
     "name": "stdout",
     "output_type": "stream",
     "text": [
      "Node2Vec Epoch: 17, Loss: 4.0086\n"
     ]
    },
    {
     "name": "stderr",
     "output_type": "stream",
     "text": [
      "100%|████████████████████████████████████████████████████████████████████████████████████| 2/2 [00:00<00:00, 74.63it/s]\n"
     ]
    },
    {
     "name": "stdout",
     "output_type": "stream",
     "text": [
      "Node2Vec Epoch: 18, Loss: 3.9492\n"
     ]
    },
    {
     "name": "stderr",
     "output_type": "stream",
     "text": [
      "100%|████████████████████████████████████████████████████████████████████████████████████| 2/2 [00:00<00:00, 82.44it/s]\n"
     ]
    },
    {
     "name": "stdout",
     "output_type": "stream",
     "text": [
      "Node2Vec Epoch: 19, Loss: 3.8329\n"
     ]
    },
    {
     "name": "stderr",
     "output_type": "stream",
     "text": [
      "100%|████████████████████████████████████████████████████████████████████████████████████| 2/2 [00:00<00:00, 69.00it/s]"
     ]
    },
    {
     "name": "stdout",
     "output_type": "stream",
     "text": [
      "Node2Vec Epoch: 20, Loss: 3.7484\n"
     ]
    },
    {
     "name": "stderr",
     "output_type": "stream",
     "text": [
      "\n",
      "D:\\work\\conda\\ana\\envs\\RecGCN\\lib\\site-packages\\torch_geometric\\data\\storage.py:452: UserWarning: Unable to accurately infer 'num_nodes' from the attribute set '{'test_mask', 'edge_index', 'train_mask', 'y'}'. Please explicitly set 'num_nodes' as an attribute of 'data' to suppress this warning\n",
      "  warnings.warn(\n"
     ]
    }
   ],
   "source": [
    "# Train Node2Vec to extract structure features\n",
    "device = 'cuda' if torch.cuda.is_available() else 'cpu'\n",
    "node2vec = Node2Vec(\n",
    "    data.edge_index, embedding_dim=64,\n",
    "    walk_length=10, context_size=5, walks_per_node=5,\n",
    "    num_negative_samples=1, p=1, q=1, sparse=True\n",
    ").to(device)\n",
    "\n",
    "loader = node2vec.loader(batch_size=128, shuffle=True, num_workers=0)\n",
    "optimizer = torch.optim.SparseAdam(list(node2vec.parameters()), lr=0.01)\n",
    "\n",
    "def train_node2vec():\n",
    "    node2vec.train()\n",
    "    total_loss = 0\n",
    "    for pos_rw, neg_rw in tqdm(loader):\n",
    "        optimizer.zero_grad()\n",
    "        loss = node2vec.loss(pos_rw.to(device), neg_rw.to(device))\n",
    "        loss.backward()\n",
    "        optimizer.step()\n",
    "        total_loss += loss.item()\n",
    "    return total_loss / len(loader)\n",
    "\n",
    "print(\"Training Node2Vec...\")\n",
    "for epoch in range(1, 21):  # 20 epochs for demonstration\n",
    "    loss = train_node2vec()\n",
    "    print(f'Node2Vec Epoch: {epoch:02d}, Loss: {loss:.4f}')\n",
    "\n",
    "@torch.no_grad()\n",
    "def get_embeddings():\n",
    "    node2vec.eval()\n",
    "    z = node2vec(torch.arange(data.num_nodes, device=device))\n",
    "    return z.cpu()\n",
    "\n",
    "# Use Node2Vec embeddings as node features\n",
    "data.x = get_embeddings()\n"
   ]
  },
  {
   "cell_type": "code",
   "execution_count": 9,
   "id": "19ca20d0-4b09-465f-a0d3-73027e143aeb",
   "metadata": {},
   "outputs": [
    {
     "name": "stdout",
     "output_type": "stream",
     "text": [
      "tensor([[-0.5938, -0.7929,  1.2026,  ..., -1.4360,  1.0293,  0.5700],\n",
      "        [-1.0564, -0.1794, -0.8746,  ..., -0.1808,  0.1863, -0.6419],\n",
      "        [ 0.0204, -0.4464, -0.8447,  ..., -0.1966,  0.7166,  1.4012],\n",
      "        ...,\n",
      "        [ 0.7138, -0.5813,  0.5633,  ...,  0.0350, -0.2183, -0.1386],\n",
      "        [-0.6607,  0.0411,  1.2769,  ...,  0.3121,  0.5011, -0.0204],\n",
      "        [-1.4351,  0.0510, -0.7352,  ...,  0.7844,  0.0200, -0.1610]])\n"
     ]
    }
   ],
   "source": [
    "print(data.x)"
   ]
  },
  {
   "cell_type": "code",
   "execution_count": 5,
   "id": "70f2379f-c3a8-49d8-9354-8a9b0bee0f4b",
   "metadata": {},
   "outputs": [
    {
     "name": "stdout",
     "output_type": "stream",
     "text": [
      "Training GCN with Node2Vec features...\n",
      "GCN Epoch: 001, Loss: 0.7206, Test Acc: 0.5000\n",
      "GCN Epoch: 002, Loss: 0.6745, Test Acc: 0.6250\n",
      "GCN Epoch: 003, Loss: 0.6509, Test Acc: 0.5750\n",
      "GCN Epoch: 004, Loss: 0.6328, Test Acc: 0.6250\n",
      "GCN Epoch: 005, Loss: 0.6126, Test Acc: 0.7000\n",
      "GCN Epoch: 006, Loss: 0.5910, Test Acc: 0.6000\n",
      "GCN Epoch: 007, Loss: 0.5708, Test Acc: 0.6000\n",
      "GCN Epoch: 008, Loss: 0.5533, Test Acc: 0.6000\n",
      "GCN Epoch: 009, Loss: 0.5380, Test Acc: 0.5750\n",
      "GCN Epoch: 010, Loss: 0.5230, Test Acc: 0.5750\n",
      "GCN Epoch: 011, Loss: 0.5078, Test Acc: 0.6000\n",
      "GCN Epoch: 012, Loss: 0.4921, Test Acc: 0.6250\n",
      "GCN Epoch: 013, Loss: 0.4764, Test Acc: 0.6250\n",
      "GCN Epoch: 014, Loss: 0.4616, Test Acc: 0.6250\n",
      "GCN Epoch: 015, Loss: 0.4477, Test Acc: 0.6250\n",
      "GCN Epoch: 016, Loss: 0.4342, Test Acc: 0.6500\n",
      "GCN Epoch: 017, Loss: 0.4208, Test Acc: 0.6500\n",
      "GCN Epoch: 018, Loss: 0.4072, Test Acc: 0.6500\n",
      "GCN Epoch: 019, Loss: 0.3938, Test Acc: 0.6750\n",
      "GCN Epoch: 020, Loss: 0.3809, Test Acc: 0.6750\n",
      "GCN Epoch: 021, Loss: 0.3685, Test Acc: 0.6750\n",
      "GCN Epoch: 022, Loss: 0.3565, Test Acc: 0.6750\n",
      "GCN Epoch: 023, Loss: 0.3445, Test Acc: 0.6750\n",
      "GCN Epoch: 024, Loss: 0.3324, Test Acc: 0.6750\n",
      "GCN Epoch: 025, Loss: 0.3204, Test Acc: 0.6750\n",
      "GCN Epoch: 026, Loss: 0.3089, Test Acc: 0.7000\n",
      "GCN Epoch: 027, Loss: 0.2976, Test Acc: 0.7000\n",
      "GCN Epoch: 028, Loss: 0.2865, Test Acc: 0.6750\n",
      "GCN Epoch: 029, Loss: 0.2756, Test Acc: 0.6500\n",
      "GCN Epoch: 030, Loss: 0.2648, Test Acc: 0.6500\n",
      "GCN Epoch: 031, Loss: 0.2544, Test Acc: 0.6500\n",
      "GCN Epoch: 032, Loss: 0.2443, Test Acc: 0.6500\n",
      "GCN Epoch: 033, Loss: 0.2344, Test Acc: 0.6500\n",
      "GCN Epoch: 034, Loss: 0.2246, Test Acc: 0.6500\n",
      "GCN Epoch: 035, Loss: 0.2153, Test Acc: 0.6500\n",
      "GCN Epoch: 036, Loss: 0.2062, Test Acc: 0.6500\n",
      "GCN Epoch: 037, Loss: 0.1974, Test Acc: 0.6500\n",
      "GCN Epoch: 038, Loss: 0.1890, Test Acc: 0.6500\n",
      "GCN Epoch: 039, Loss: 0.1808, Test Acc: 0.6500\n",
      "GCN Epoch: 040, Loss: 0.1729, Test Acc: 0.6500\n",
      "GCN Epoch: 041, Loss: 0.1653, Test Acc: 0.6500\n",
      "GCN Epoch: 042, Loss: 0.1579, Test Acc: 0.6500\n",
      "GCN Epoch: 043, Loss: 0.1508, Test Acc: 0.6500\n",
      "GCN Epoch: 044, Loss: 0.1441, Test Acc: 0.6500\n",
      "GCN Epoch: 045, Loss: 0.1376, Test Acc: 0.6750\n",
      "GCN Epoch: 046, Loss: 0.1314, Test Acc: 0.6750\n",
      "GCN Epoch: 047, Loss: 0.1255, Test Acc: 0.6750\n",
      "GCN Epoch: 048, Loss: 0.1198, Test Acc: 0.6500\n",
      "GCN Epoch: 049, Loss: 0.1144, Test Acc: 0.6500\n",
      "GCN Epoch: 050, Loss: 0.1092, Test Acc: 0.6500\n"
     ]
    }
   ],
   "source": [
    "class GCN(torch.nn.Module):\n",
    "    def __init__(self, in_channels, hidden_channels, out_channels):\n",
    "        super().__init__()\n",
    "        self.conv1 = GCNConv(in_channels, hidden_channels)\n",
    "        self.conv2 = GCNConv(hidden_channels, out_channels)\n",
    "    def forward(self, x, edge_index):\n",
    "        x = self.conv1(x, edge_index)\n",
    "        x = F.relu(x)\n",
    "        x = self.conv2(x, edge_index)\n",
    "        return x\n",
    "\n",
    "model_gcn = GCN(data.x.shape[1], 32, int(data.y.max().item())+1).to(device)\n",
    "data = data.to(device)\n",
    "optimizer_gcn = torch.optim.Adam(model_gcn.parameters(), lr=0.01, weight_decay=5e-4)\n",
    "\n",
    "def train_gcn():\n",
    "    model_gcn.train()\n",
    "    optimizer_gcn.zero_grad()\n",
    "    out = model_gcn(data.x, data.edge_index)\n",
    "    loss = F.cross_entropy(out[data.train_mask], data.y[data.train_mask])\n",
    "    loss.backward()\n",
    "    optimizer_gcn.step()\n",
    "    return loss.item()\n",
    "\n",
    "@torch.no_grad()\n",
    "def test_gcn():\n",
    "    model_gcn.eval()\n",
    "    out = model_gcn(data.x, data.edge_index)\n",
    "    pred = out.argmax(dim=1)\n",
    "    acc = (pred[data.test_mask] == data.y[data.test_mask]).sum().item() / data.test_mask.sum().item()\n",
    "    return acc\n",
    "\n",
    "print(\"Training GCN with Node2Vec features...\")\n",
    "for epoch in range(1, 51):\n",
    "    loss = train_gcn()\n",
    "    acc = test_gcn()\n",
    "    print(f'GCN Epoch: {epoch:03d}, Loss: {loss:.4f}, Test Acc: {acc:.4f}')\n"
   ]
  },
  {
   "cell_type": "code",
   "execution_count": null,
   "id": "844fa74d-285b-426c-8ee9-9961c5c59a45",
   "metadata": {},
   "outputs": [],
   "source": []
  },
  {
   "cell_type": "code",
   "execution_count": null,
   "id": "fe0498c5-64ee-4eb0-abaf-0525ba2a4406",
   "metadata": {},
   "outputs": [],
   "source": []
  }
 ],
 "metadata": {
  "kernelspec": {
   "display_name": "Python (RecGCN)",
   "language": "python",
   "name": "recgcn"
  },
  "language_info": {
   "codemirror_mode": {
    "name": "ipython",
    "version": 3
   },
   "file_extension": ".py",
   "mimetype": "text/x-python",
   "name": "python",
   "nbconvert_exporter": "python",
   "pygments_lexer": "ipython3",
   "version": "3.8.19"
  }
 },
 "nbformat": 4,
 "nbformat_minor": 5
}
