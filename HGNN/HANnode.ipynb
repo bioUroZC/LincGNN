{
 "cells": [
  {
   "cell_type": "code",
   "execution_count": 1,
   "id": "ec3884dc-b544-4cde-b0a6-2d56b05f7f8a",
   "metadata": {},
   "outputs": [],
   "source": [
    "import pandas as pd\n",
    "import numpy as np\n",
    "import random\n",
    "from itertools import combinations\n",
    "import torch\n",
    "import torch.nn as nn\n",
    "import torch.nn.functional as F\n",
    "from sklearn.model_selection import train_test_split\n",
    "from torch_geometric.nn import HANConv"
   ]
  },
  {
   "cell_type": "code",
   "execution_count": 2,
   "id": "ae658f3f-bf71-450e-9251-73af49ad8a9d",
   "metadata": {},
   "outputs": [],
   "source": [
    "# Fix random seeds for reproducibility\n",
    "random.seed(42)\n",
    "np.random.seed(42)\n",
    "\n",
    "# Set the number of each node type\n",
    "num_lnc = 30\n",
    "num_mi = 10\n",
    "num_m = 15\n",
    "\n",
    "# Generate node IDs\n",
    "lnc_ids = [f'lnc{i+1}' for i in range(num_lnc)]\n",
    "mi_ids = [f'mi{i+1}' for i in range(num_mi)]\n",
    "m_ids = [f'm{i+1}' for i in range(num_m)]\n",
    "\n",
    "# Build edge list for the heterogeneous network\n",
    "edge_list = []\n",
    "# Step 1: Randomly add lncRNA-miRNA and lncRNA-mRNA relations\n",
    "for lnc in lnc_ids:\n",
    "    mi_samples = random.sample(mi_ids, random.randint(2, 5))  # More connections\n",
    "    for mi in mi_samples:\n",
    "        edge_list.append([lnc, mi, 'lncRNA', 'miRNA', 'regulate'])\n",
    "    m_samples = random.sample(m_ids, random.randint(2, 4))    # More connections\n",
    "    for m in m_samples:\n",
    "        edge_list.append([lnc, m, 'lncRNA', 'mRNA', 'coexpression'])\n",
    "\n",
    "# Step 1b: Randomly add miRNA-mRNA regulate edges\n",
    "for mi in mi_ids:\n",
    "    m_samples = random.sample(m_ids, random.randint(3, 6))    # Denser connections\n",
    "    for m in m_samples:\n",
    "        edge_list.append([mi, m, 'miRNA', 'mRNA', 'regulate'])\n",
    "\n",
    "# Step 2: Manually create 4-hop closed paths to guarantee some meta-path-2 links\n",
    "for i in range(5):  # Manually build 5 such structures\n",
    "    lncA, lncB = random.sample(lnc_ids, 2)\n",
    "    mi1, mi2 = random.sample(mi_ids, 2)\n",
    "    m = random.choice(m_ids)\n",
    "    edge_list.append([lncA, mi1, 'lncRNA', 'miRNA', 'regulate'])\n",
    "    edge_list.append([lncB, mi2, 'lncRNA', 'miRNA', 'regulate'])\n",
    "    edge_list.append([mi1, m, 'miRNA', 'mRNA', 'regulate'])\n",
    "    edge_list.append([mi2, m, 'miRNA', 'mRNA', 'regulate'])\n",
    "\n",
    "# Convert the edge list to a DataFrame\n",
    "edges_df = pd.DataFrame(edge_list, columns=['A', 'B', 'A_type', 'B_type', 'relation'])"
   ]
  },
  {
   "cell_type": "code",
   "execution_count": 3,
   "id": "41793068-36cb-4f79-a7df-2a67ae943582",
   "metadata": {},
   "outputs": [
    {
     "name": "stdout",
     "output_type": "stream",
     "text": [
      "         A    B  A_type B_type      relation\n",
      "0     lnc1  mi1  lncRNA  miRNA      regulate\n",
      "1     lnc1  mi5  lncRNA  miRNA      regulate\n",
      "2     lnc1   m4  lncRNA   mRNA  coexpression\n",
      "3     lnc1   m3  lncRNA   mRNA  coexpression\n",
      "4     lnc2  mi9  lncRNA  miRNA      regulate\n",
      "..     ...  ...     ...    ...           ...\n",
      "250    mi6   m1   miRNA   mRNA      regulate\n",
      "251   lnc2  mi8  lncRNA  miRNA      regulate\n",
      "252  lnc19  mi9  lncRNA  miRNA      regulate\n",
      "253    mi8  m15   miRNA   mRNA      regulate\n",
      "254    mi9  m15   miRNA   mRNA      regulate\n",
      "\n",
      "[255 rows x 5 columns]\n"
     ]
    }
   ],
   "source": [
    "print(edges_df)"
   ]
  },
  {
   "cell_type": "code",
   "execution_count": 4,
   "id": "08204bdb-2dcd-46da-9ce2-32f093822622",
   "metadata": {},
   "outputs": [],
   "source": [
    "# Generate random features and labels for lncRNAs\n",
    "lnc_labels = np.random.randint(0, 2, size=num_lnc)   # Binary classification\n",
    "feat_dim = 8\n",
    "lnc_feat = np.random.randn(num_lnc, feat_dim)\n",
    "lnc_feat_df = pd.DataFrame({'lncRNA': lnc_ids, 'label': lnc_labels})\n",
    "for i in range(feat_dim):\n",
    "    lnc_feat_df[f'feat_{i}'] = lnc_feat[:, i]"
   ]
  },
  {
   "cell_type": "code",
   "execution_count": 5,
   "id": "30e8b16b-625f-4c71-a45b-88300eda11b5",
   "metadata": {},
   "outputs": [
    {
     "name": "stdout",
     "output_type": "stream",
     "text": [
      "  lncRNA  label    feat_0    feat_1    feat_2    feat_3    feat_4    feat_5  \\\n",
      "0   lnc1      0 -0.571380 -0.924083 -2.612549  0.950370  0.816445 -1.523876   \n",
      "1   lnc2      1 -0.703344 -2.139621 -0.629475  0.597720  2.559488  0.394233   \n",
      "2   lnc3      0 -0.600254  0.947440  0.291034 -0.635560 -1.021552 -0.161755   \n",
      "3   lnc4      0 -0.229450  0.389349 -1.265119  1.091992  2.778313  1.193640   \n",
      "4   lnc5      0 -1.009085 -1.583294  0.773700 -0.538142 -1.346678 -0.880591   \n",
      "\n",
      "     feat_6    feat_7  \n",
      "0 -0.428046 -0.742407  \n",
      "1  0.122219 -0.515436  \n",
      "2 -0.533649 -0.005528  \n",
      "3  0.218638  0.881761  \n",
      "4 -1.130552  0.134429  \n"
     ]
    }
   ],
   "source": [
    "print(lnc_feat_df.head())"
   ]
  },
  {
   "cell_type": "code",
   "execution_count": 6,
   "id": "51f2aeef-1765-416f-86b9-1e12cd2f0a11",
   "metadata": {},
   "outputs": [],
   "source": [
    "# -------- Meta-path view construction functions --------\n",
    "def metapath_lnc_mi_lnc(edges_df, lnc_list):\n",
    "    \"\"\"\n",
    "    Construct the lncRNA–miRNA–lncRNA meta-path view.\n",
    "    Returns edge_index for this view.\n",
    "    \"\"\"\n",
    "    adj = {}\n",
    "    for _, row in edges_df.iterrows():\n",
    "        if row['A_type'] == 'lncRNA' and row['B_type'] == 'miRNA':\n",
    "            adj.setdefault(row['A'], set()).add(row['B'])\n",
    "    mi2lnc = {}\n",
    "    for lnc, mis in adj.items():\n",
    "        for mi in mis:\n",
    "            mi2lnc.setdefault(mi, set()).add(lnc)\n",
    "    edge_set = set()\n",
    "    for lnc_set in mi2lnc.values():\n",
    "        for u, v in combinations(sorted(lnc_set), 2):\n",
    "            edge_set.add((u, v))\n",
    "    node2idx = {nid: i for i, nid in enumerate(lnc_list)}\n",
    "    edges = list(edge_set)\n",
    "    if len(edges) > 0:\n",
    "        edge_index = torch.tensor([\n",
    "            [node2idx[u] for u, v in edges] + [node2idx[v] for u, v in edges],\n",
    "            [node2idx[v] for u, v in edges] + [node2idx[u] for u, v in edges]\n",
    "        ], dtype=torch.long)\n",
    "    else:\n",
    "        edge_index = torch.empty((2, 0), dtype=torch.long)\n",
    "    return edge_index\n",
    "\n",
    "def metapath_lnc_mi_m_mi_lnc(edges_df, lnc_list):\n",
    "    \"\"\"\n",
    "    Construct the lncRNA–miRNA–mRNA–miRNA–lncRNA meta-path view.\n",
    "    Returns edge_index for this view.\n",
    "    \"\"\"\n",
    "    lnc2mi = {}\n",
    "    for _, row in edges_df.iterrows():\n",
    "        if row['A_type'] == 'lncRNA' and row['B_type'] == 'miRNA':\n",
    "            lnc2mi.setdefault(row['A'], set()).add(row['B'])\n",
    "    mi2m = {}\n",
    "    for _, row in edges_df.iterrows():\n",
    "        if row['A_type'] == 'miRNA' and row['B_type'] == 'mRNA':\n",
    "            mi2m.setdefault(row['A'], set()).add(row['B'])\n",
    "    m2mi = {}\n",
    "    for mi, ms in mi2m.items():\n",
    "        for m in ms:\n",
    "            m2mi.setdefault(m, set()).add(mi)\n",
    "    mi2lnc = {}\n",
    "    for lnc, mis in lnc2mi.items():\n",
    "        for mi in mis:\n",
    "            mi2lnc.setdefault(mi, set()).add(lnc)\n",
    "    edge_set = set()\n",
    "    for lnc_start in lnc_list:\n",
    "        for mi1 in lnc2mi.get(lnc_start, []):\n",
    "            for m in mi2m.get(mi1, []):\n",
    "                for mi2 in m2mi.get(m, []):\n",
    "                    for lnc_end in mi2lnc.get(mi2, []):\n",
    "                        if lnc_start != lnc_end:\n",
    "                            u, v = sorted([lnc_start, lnc_end])\n",
    "                            edge_set.add((u, v))\n",
    "    node2idx = {nid: i for i, nid in enumerate(lnc_list)}\n",
    "    edges = list(edge_set)\n",
    "    if len(edges) > 0:\n",
    "        edge_index = torch.tensor([\n",
    "            [node2idx[u] for u, v in edges] + [node2idx[v] for u, v in edges],\n",
    "            [node2idx[v] for u, v in edges] + [node2idx[u] for u, v in edges]\n",
    "        ], dtype=torch.long)\n",
    "    else:\n",
    "        edge_index = torch.empty((2, 0), dtype=torch.long)\n",
    "    return edge_index"
   ]
  },
  {
   "cell_type": "code",
   "execution_count": 7,
   "id": "31050502-8195-47ed-8e2f-a6aa6513a655",
   "metadata": {},
   "outputs": [
    {
     "name": "stdout",
     "output_type": "stream",
     "text": [
      "View1 edges (lnc-mi-lnc): 348\n",
      "View2 edges (lnc-mi-m-mi-lnc): 435\n"
     ]
    }
   ],
   "source": [
    "# Build meta-path-based edge indices for lncRNA nodes\n",
    "lnc_list = lnc_feat_df['lncRNA'].tolist()\n",
    "edge_index1 = metapath_lnc_mi_lnc(edges_df, lnc_list)\n",
    "edge_index2 = metapath_lnc_mi_m_mi_lnc(edges_df, lnc_list)\n",
    "edge_index_list = [edge_index1, edge_index2]\n",
    "\n",
    "print(f\"View1 edges (lnc-mi-lnc): {edge_index1.size(1)//2}\")\n",
    "print(f\"View2 edges (lnc-mi-m-mi-lnc): {edge_index2.size(1)//2}\")"
   ]
  },
  {
   "cell_type": "code",
   "execution_count": 8,
   "id": "8bb2229b-7825-4423-b77c-436ec0218913",
   "metadata": {},
   "outputs": [],
   "source": [
    "# Prepare node features and labels for model input\n",
    "feat_cols = [c for c in lnc_feat_df.columns if c.startswith('feat_')]\n",
    "x = torch.tensor(lnc_feat_df[feat_cols].values, dtype=torch.float)\n",
    "y = torch.tensor(lnc_feat_df['label'].values, dtype=torch.long)\n",
    "\n",
    "# Train/validation/test split\n",
    "idx = torch.arange(x.size(0))\n",
    "train_idx, test_idx = train_test_split(idx, test_size=0.2, random_state=42)\n",
    "train_idx, val_idx  = train_test_split(train_idx, test_size=0.25, random_state=42)  # 0.6 train, 0.2 val, 0.2 test\n",
    "\n",
    "# PyG 2.x metadata definition: required for HANConv\n",
    "node_types = ['lncRNA']\n",
    "edge_types = [\n",
    "    ('lncRNA', 'meta1', 'lncRNA'),  # Meta-path 1\n",
    "    ('lncRNA', 'meta2', 'lncRNA'),  # Meta-path 2\n",
    "]\n",
    "metadata = (node_types, edge_types)"
   ]
  },
  {
   "cell_type": "code",
   "execution_count": 9,
   "id": "b2541b60-7700-483e-95cf-67e524b95276",
   "metadata": {},
   "outputs": [
    {
     "name": "stdout",
     "output_type": "stream",
     "text": [
      "(['lncRNA'], [('lncRNA', 'meta1', 'lncRNA'), ('lncRNA', 'meta2', 'lncRNA')])\n"
     ]
    }
   ],
   "source": [
    "print(metadata)"
   ]
  },
  {
   "cell_type": "code",
   "execution_count": 10,
   "id": "9ecec844-23ae-4426-a374-d28aeecb1c7a",
   "metadata": {},
   "outputs": [
    {
     "name": "stdout",
     "output_type": "stream",
     "text": [
      "Epoch 001 | Loss: 0.7143 | Train: 0.4444 | Val: 0.3333 | Test: 0.5000\n",
      "Epoch 002 | Loss: 0.7027 | Train: 0.4444 | Val: 0.1667 | Test: 0.3333\n",
      "Epoch 003 | Loss: 0.6857 | Train: 0.5556 | Val: 0.3333 | Test: 0.3333\n",
      "Epoch 004 | Loss: 0.6795 | Train: 0.5556 | Val: 0.3333 | Test: 0.3333\n",
      "Epoch 005 | Loss: 0.7100 | Train: 0.5556 | Val: 0.3333 | Test: 0.3333\n",
      "Epoch 006 | Loss: 0.6888 | Train: 0.5556 | Val: 0.3333 | Test: 0.3333\n",
      "Early stopping.\n"
     ]
    }
   ],
   "source": [
    "\n",
    "# Define the HAN model (multi-view, lncRNA node classification)\n",
    "class HANforLncRNA(nn.Module):\n",
    "    def __init__(self, in_dim, hidden_dim, out_dim, metadata, dropout=0.5):\n",
    "        super().__init__()\n",
    "        # HANConv: multi-view GNN with attention over meta-paths\n",
    "        self.han = HANConv(\n",
    "            in_channels=in_dim,\n",
    "            out_channels=hidden_dim,\n",
    "            metadata=metadata,\n",
    "            heads=8,\n",
    "        )\n",
    "        self.lin = nn.Linear(hidden_dim, out_dim)  # HANConv outputs hidden_dim (not hidden_dim*heads)\n",
    "        self.dropout = dropout\n",
    "\n",
    "    def forward(self, x, edge_index_list):\n",
    "        # PyG HANConv expects dict inputs: {node_type: x}, {edge_type: edge_index}\n",
    "        x_dict = {'lncRNA': x}\n",
    "        edge_index_dict = {etype: edge_index_list[i] for i, etype in enumerate(metadata[1])}\n",
    "        h_dict = self.han(x_dict, edge_index_dict)\n",
    "        h = h_dict['lncRNA']\n",
    "        h = F.dropout(h, p=self.dropout, training=self.training)\n",
    "        return self.lin(h)\n",
    "\n",
    "# Instantiate model\n",
    "model = HANforLncRNA(\n",
    "    in_dim=x.size(1),\n",
    "    hidden_dim=32,\n",
    "    out_dim=2,\n",
    "    metadata=metadata,\n",
    "    dropout=0.5\n",
    ")\n",
    "\n",
    "optimizer = torch.optim.Adam(model.parameters(), lr=0.005, weight_decay=1e-5)\n",
    "\n",
    "# -------- Training loop with early stopping --------\n",
    "best_val = 0.0\n",
    "patience = 5\n",
    "patience_cnt = 0\n",
    "\n",
    "for epoch in range(1, 101):\n",
    "    model.train()\n",
    "    optimizer.zero_grad()\n",
    "    out = model(x, edge_index_list)\n",
    "    loss = F.cross_entropy(out[train_idx], y[train_idx])\n",
    "    loss.backward()\n",
    "    optimizer.step()\n",
    "\n",
    "    model.eval()\n",
    "    with torch.no_grad():\n",
    "        out = model(x, edge_index_list)\n",
    "        pred = out.argmax(dim=-1)\n",
    "        train_acc = (pred[train_idx] == y[train_idx]).float().mean().item()\n",
    "        val_acc   = (pred[val_idx]   == y[val_idx]).float().mean().item()\n",
    "        test_acc  = (pred[test_idx]  == y[test_idx]).float().mean().item()\n",
    "    print(f\"Epoch {epoch:03d} | Loss: {loss:.4f} | Train: {train_acc:.4f} | Val: {val_acc:.4f} | Test: {test_acc:.4f}\")\n",
    "    if val_acc > best_val:\n",
    "        best_val = val_acc\n",
    "        best_state = model.state_dict()\n",
    "        patience_cnt = 0\n",
    "    else:\n",
    "        patience_cnt += 1\n",
    "        if patience_cnt >= patience:\n",
    "            print(\"Early stopping.\")\n",
    "            break"
   ]
  },
  {
   "cell_type": "code",
   "execution_count": 11,
   "id": "877cf309-f18f-4641-8332-9e7dd8f56890",
   "metadata": {},
   "outputs": [
    {
     "name": "stdout",
     "output_type": "stream",
     "text": [
      "\n",
      "Final Test accuracy: 0.3333333432674408\n"
     ]
    }
   ],
   "source": [
    "# -------- Final evaluation on test set --------\n",
    "model.load_state_dict(best_state)\n",
    "model.eval()\n",
    "with torch.no_grad():\n",
    "    out = model(x, edge_index_list)\n",
    "    pred = out.argmax(dim=-1)\n",
    "    print(\"\\nFinal Test accuracy:\", (pred[test_idx] == y[test_idx]).float().mean().item())"
   ]
  },
  {
   "cell_type": "code",
   "execution_count": null,
   "id": "98fdb3ff-bd3e-43d3-ae4f-53ac990dd80c",
   "metadata": {},
   "outputs": [],
   "source": []
  }
 ],
 "metadata": {
  "kernelspec": {
   "display_name": "Python (RecGCN)",
   "language": "python",
   "name": "recgcn"
  },
  "language_info": {
   "codemirror_mode": {
    "name": "ipython",
    "version": 3
   },
   "file_extension": ".py",
   "mimetype": "text/x-python",
   "name": "python",
   "nbconvert_exporter": "python",
   "pygments_lexer": "ipython3",
   "version": "3.8.19"
  }
 },
 "nbformat": 4,
 "nbformat_minor": 5
}
